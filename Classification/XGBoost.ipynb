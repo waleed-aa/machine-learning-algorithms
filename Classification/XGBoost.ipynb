{
 "cells": [
  {
   "cell_type": "markdown",
   "id": "0693c388",
   "metadata": {},
   "source": [
    "# XGboost Boosting Trees\n",
    "\n",
    "Extreme boosting is a sequential ensemble of algorithms. The model starts with a base estimator and each subsequent model in the series learns from the mistakes of its predecessor. The model learns slowly as it depends upon previous trees in the series\n",
    "\n",
    "# Training Process\n",
    "\n",
    "The model starts with an initial base model. The models fits on the residual errors of the previous model to update residuals. The subsequent model then performs better than its predecessor and this sequence continues until all predictors are trained. The ensemble then makes predictions by classifying the class that receives the most weighted votes. \n",
    "\n",
    "The model minimizes the residuals through gradient descent.\n",
    "\n",
    "\n",
    "\n",
    "# XGBoost Hyperparameters\n",
    "\n",
    "This model has many hyperparameters. They are classified into three categories.\n",
    "\n",
    "**General parameters** relate to which booster we are using to do boosting, commonly tree or linear model\n",
    "\n",
    "**Booster parameters** depend on which booster you have chosen\n",
    "\n",
    "**Learning task parameters** decide on the learning scenario. For example, regression tasks may use different parameters with ranking tasks.\n",
    "\n",
    "**Command line parameters** relate to behaviour of CLI version of XGBoost.\n",
    "\n",
    "\n",
    "\n",
    "- n_estimators: Number of trees. Can overfit if this is too large\n",
    "\n",
    "- learning rate: Shrinkage parameter. Setting this at a value too low will  require more trees but the model will generalize better. So, a low learning rate and high n_estimator works well.\n",
    "\n",
    "- subsample: fraction of training instances to be used for training each tree. setting this at 0.25 means that each tree only uses 25% of the training instances selected randomly. This trades high bias for low variance. This is called stochastic gradient boosting.\n",
    "\n",
    "- warm_start: early stopping call-back parameter if the model does not improve well for 5 consecutive iterations.\n",
    "\n",
    "\n",
    "\n",
    "\n",
    "\n",
    "#  Pros and Cons\n",
    "\n",
    "\n",
    "**Pros**\n",
    "\n",
    "- Outperforms most other predictive models\n",
    "\n",
    "- It is optimized for performance, making it highly scalable. \n",
    "\n",
    "**Cons**\n",
    "\n",
    "- Trades better performance for lack of interpretability\n",
    "\n",
    "- Works well with non-linear datasets\n",
    "\n",
    "\t\n"
   ]
  },
  {
   "cell_type": "markdown",
   "id": "93d9627b",
   "metadata": {},
   "source": [
    "\n",
    "# 1. Libraries"
   ]
  },
  {
   "cell_type": "code",
   "execution_count": 1,
   "id": "059881ec",
   "metadata": {},
   "outputs": [],
   "source": [
    "# Importing Libraries\n",
    "import pandas as pd\n",
    "import numpy as np\n",
    "import matplotlib.pyplot as plt\n",
    "import seaborn as sns\n",
    "from xgboost import XGBClassifier\n",
    "from sklearn import metrics\n",
    "from sklearn.metrics import confusion_matrix, classification_report, accuracy_score\n",
    "from sklearn.model_selection import train_test_split\n",
    "from sklearn.preprocessing import StandardScaler\n",
    "from matplotlib.colors import ListedColormap\n",
    "from sklearn.model_selection import cross_val_score\n",
    "from sklearn.model_selection import GridSearchCV\n",
    "from sklearn.model_selection import RandomizedSearchCV"
   ]
  },
  {
   "cell_type": "code",
   "execution_count": 2,
   "id": "9b68e81b",
   "metadata": {},
   "outputs": [
    {
     "data": {
      "text/html": [
       "<div>\n",
       "<style scoped>\n",
       "    .dataframe tbody tr th:only-of-type {\n",
       "        vertical-align: middle;\n",
       "    }\n",
       "\n",
       "    .dataframe tbody tr th {\n",
       "        vertical-align: top;\n",
       "    }\n",
       "\n",
       "    .dataframe thead th {\n",
       "        text-align: right;\n",
       "    }\n",
       "</style>\n",
       "<table border=\"1\" class=\"dataframe\">\n",
       "  <thead>\n",
       "    <tr style=\"text-align: right;\">\n",
       "      <th></th>\n",
       "      <th>Age</th>\n",
       "      <th>EstimatedSalary</th>\n",
       "      <th>Purchased</th>\n",
       "    </tr>\n",
       "  </thead>\n",
       "  <tbody>\n",
       "    <tr>\n",
       "      <th>0</th>\n",
       "      <td>19</td>\n",
       "      <td>19000</td>\n",
       "      <td>0</td>\n",
       "    </tr>\n",
       "    <tr>\n",
       "      <th>1</th>\n",
       "      <td>35</td>\n",
       "      <td>20000</td>\n",
       "      <td>0</td>\n",
       "    </tr>\n",
       "    <tr>\n",
       "      <th>2</th>\n",
       "      <td>26</td>\n",
       "      <td>43000</td>\n",
       "      <td>0</td>\n",
       "    </tr>\n",
       "    <tr>\n",
       "      <th>3</th>\n",
       "      <td>27</td>\n",
       "      <td>57000</td>\n",
       "      <td>0</td>\n",
       "    </tr>\n",
       "    <tr>\n",
       "      <th>4</th>\n",
       "      <td>19</td>\n",
       "      <td>76000</td>\n",
       "      <td>0</td>\n",
       "    </tr>\n",
       "  </tbody>\n",
       "</table>\n",
       "</div>"
      ],
      "text/plain": [
       "   Age  EstimatedSalary  Purchased\n",
       "0   19            19000          0\n",
       "1   35            20000          0\n",
       "2   26            43000          0\n",
       "3   27            57000          0\n",
       "4   19            76000          0"
      ]
     },
     "execution_count": 2,
     "metadata": {},
     "output_type": "execute_result"
    }
   ],
   "source": [
    "# Import Data\n",
    "dataset = pd.read_csv('Social_Network_Ads.csv')\n",
    "dataset.head()"
   ]
  },
  {
   "cell_type": "markdown",
   "id": "06657803",
   "metadata": {},
   "source": [
    "# 2. Preprocessing"
   ]
  },
  {
   "cell_type": "code",
   "execution_count": 3,
   "id": "64dc8c8c",
   "metadata": {},
   "outputs": [
    {
     "name": "stdout",
     "output_type": "stream",
     "text": [
      "Standardized feature Mean: 0.0\n",
      "Standardized feature SD : 1.0\n"
     ]
    }
   ],
   "source": [
    "# Create subsets of input features and response variable.\n",
    "X = dataset.iloc[:, :-1].values\n",
    "y = dataset['Purchased'].values\n",
    "\n",
    "# Training and Testing subsets \n",
    "X_train, X_test, y_train, y_test = train_test_split(X, y, test_size = 0.2, random_state = 911)\n",
    "\n",
    "# Feature Scaling\n",
    "sc = StandardScaler()\n",
    "X_train = sc.fit_transform(X_train)\n",
    "X_test = sc.transform(X_test)\n",
    "print('Standardized feature Mean:',  X_train.mean().round())\n",
    "print('Standardized feature SD :',   X_train.std().round())"
   ]
  },
  {
   "cell_type": "code",
   "execution_count": 4,
   "id": "795ffcb6",
   "metadata": {},
   "outputs": [
    {
     "data": {
      "image/png": "[encoded data removed]",
      "text/plain": [
       "<Figure size 432x288 with 1 Axes>"
      ]
     },
     "metadata": {
      "needs_background": "light"
     },
     "output_type": "display_data"
    }
   ],
   "source": [
    "# Training the XGBoost Model\n",
    "xgb = XGBClassifier(use_label_encoder=False, \n",
    "    eval_metric='error', # Evaluation metrics for validation data\n",
    "    learning_rate =0.1, # Step size shrinkage to prevents overfitting.\n",
    "    n_estimators=1000, # Number of Estimators\n",
    "    max_depth=5, # Maximum depth of a tree.\n",
    "    min_child_weight=1, #Minimum sum of instance weight (hessian) needed in a child.\n",
    "    gamma=0, #Minimum loss reduction required to make a further partition on a leaf node of the tree.\n",
    "    subsample=0.8, #fraction of training instances to be used for training each tree.\n",
    "    colsample_bytree=0.8, # subsampling of columns.\n",
    "    objective= 'binary:logistic', # tells XGBoost that we aim to train a logistic regression model\n",
    "    nthread=4, #Number of parallel threads used to run XGBoost\n",
    "    scale_pos_weight=1, # Control the balance of positive and negative weights, useful for unbalanced classes.\n",
    "    seed=911) # For reproducible results\n",
    "\n",
    "# Fit the model\n",
    "xgb.fit(X_train, y_train)\n",
    "\n",
    "# Visualising the Training set results\n",
    "X_set, y_set = sc.inverse_transform(X_train), y_train\n",
    "X1, X2 = np.meshgrid(np.arange(start = X_set[:, 0].min() - 10, stop = X_set[:, 0].max() + 10, step = 0.25),\n",
    "                     np.arange(start = X_set[:, 1].min() - 1000, stop = X_set[:, 1].max() + 1000, step = 0.25))\n",
    "plt.contourf(X1, X2, xgb.predict(sc.transform(np.array([X1.ravel(), X2.ravel()]).T)).reshape(X1.shape),\n",
    "             alpha = 0.75, cmap = ListedColormap(('red', 'green')))\n",
    "plt.xlim(X1.min(), X1.max())\n",
    "plt.ylim(X2.min(), X2.max())\n",
    "for i, j in enumerate(np.unique(y_set)):\n",
    "    plt.scatter(X_set[y_set == j, 0], X_set[y_set == j, 1], cmap = ListedColormap(('red', 'green'))(i),edgecolor = 'black',\n",
    "            linewidth = 1,\n",
    "            alpha = 0.75, label = j)\n",
    "plt.title('XGBoost Classification (Training set)')\n",
    "plt.xlabel('Age')\n",
    "plt.ylabel('Estimated Salary')\n",
    "plt.legend()\n",
    "plt.show()"
   ]
  },
  {
   "cell_type": "markdown",
   "id": "50f4d321",
   "metadata": {},
   "source": [
    "# 3. Model Evaluation"
   ]
  },
  {
   "cell_type": "code",
   "execution_count": 23,
   "id": "5823c54f",
   "metadata": {},
   "outputs": [
    {
     "name": "stdout",
     "output_type": "stream",
     "text": [
      "[0]\n",
      "[[0.98690414 0.01309583]]\n",
      "Classification Accuracy : 0.85\n"
     ]
    }
   ],
   "source": [
    "# Predicting a new result using age 40 and salary 87000\n",
    "print(xgb.predict(sc.transform([[40,87000]])))\n",
    "print(xgb.predict_proba(sc.transform([[40,87000]])))\n",
    "\n",
    "# Predicting the Test set results\n",
    "y_pred = xgb.predict(X_test)\n",
    "\n",
    "# Classification Accuracy\n",
    "print('Classification Accuracy :', accuracy_score(y_test, y_pred))"
   ]
  },
  {
   "cell_type": "markdown",
   "id": "135e1263",
   "metadata": {},
   "source": [
    "# 4. K-Fold Cross Validation"
   ]
  },
  {
   "cell_type": "code",
   "execution_count": 6,
   "id": "1aa870d8",
   "metadata": {},
   "outputs": [
    {
     "name": "stdout",
     "output_type": "stream",
     "text": [
      "[0.85  0.725 0.9   0.9   0.9   0.825 0.8   0.875 0.75  0.9  ]\n",
      "Accuracy: 84.250 %\n",
      "Standard Deviation: 6.230 %\n"
     ]
    }
   ],
   "source": [
    "# 10 fold cross validation\n",
    "accuracies = cross_val_score(estimator = xgb,\n",
    "                             X = X,\n",
    "                             y = y,\n",
    "                             cv = 10,\n",
    "                             scoring = 'accuracy')\n",
    "\n",
    "# Cross validation accuracy and standard deviation\n",
    "print(accuracies)\n",
    "print(\"Accuracy: {:.3f} %\".format(accuracies.mean()*100))\n",
    "print(\"Standard Deviation: {:.3f} %\".format(accuracies.std()*100))"
   ]
  },
  {
   "cell_type": "markdown",
   "id": "d054560c",
   "metadata": {},
   "source": [
    "# 5. Hyperparametric Tuning"
   ]
  },
  {
   "cell_type": "code",
   "execution_count": 16,
   "id": "60e60fa2",
   "metadata": {},
   "outputs": [
    {
     "name": "stdout",
     "output_type": "stream",
     "text": [
      "Best Accuracy: 91.88 %\n",
      "Best Parameters: {'colsample_bytree': 0.3, 'gamma': 0.2, 'learning_rate': 0.05, 'max_depth': 3, 'min_child_weight': 1, 'n_estimators': 200}\n"
     ]
    }
   ],
   "source": [
    "# Grid Search CV\n",
    "param_grid = [{\"learning_rate\": (0.05, 0.10, 0.15),\n",
    "               \"max_depth\": [ 3, 4, 5, 6, 8],\n",
    "               \"min_child_weight\": [ 1, 3, 5, 7],\n",
    "               \"gamma\":[ 0.0, 0.1, 0.2],\n",
    "               \"colsample_bytree\":[ 0.3, 0.4],\n",
    "               \"n_estimators\": [100, 200, 300, 400, 500, 600, 700, 800, 900, 1000]}]\n",
    "\n",
    "#Instantiate XGbBoost\n",
    "xgboost_tuned = XGBClassifier(use_label_encoder=False)\n",
    "\n",
    "# Configure GridSearchCV\n",
    "grid_search = GridSearchCV(xgboost_tuned, param_grid, cv=5, scoring = \"accuracy\", n_jobs = -1)\n",
    "\n",
    "# Initiate Search\n",
    "grid_search.fit(X_train, y_train)\n",
    "\n",
    "# Extract Tuned Parameters and Predictive Accuracy\n",
    "tuned_params = grid_search.best_params_\n",
    "tuned_score = grid_search.best_score_\n",
    "best_estimator = grid_search.best_estimator_\n",
    "\n",
    "# Print Results\n",
    "print(\"Best Accuracy: {:.2f} %\".format(grid_search.best_score_*100))\n",
    "print(\"Best Parameters:\", tuned_params)"
   ]
  },
  {
   "cell_type": "code",
   "execution_count": 19,
   "id": "295a3e3b",
   "metadata": {},
   "outputs": [
    {
     "name": "stdout",
     "output_type": "stream",
     "text": [
      "Best Accuracy: 90.94 %\n",
      "Best Parameters: {'n_estimators': 1000, 'min_child_weight': 5, 'max_depth': 3, 'learning_rate': 0.05, 'gamma': 0.2, 'eval_metric': 'logloss', 'colsample_bytree': 0.4}\n"
     ]
    }
   ],
   "source": [
    "# Randomized Search\n",
    "xgb = XGBClassifier(use_label_encoder=False)\n",
    "\n",
    "param_space = {\"learning_rate\": (0.05, 0.10, 0.15),\n",
    "                \"max_depth\": [ 3, 4, 5, 6, 8],\n",
    "                \"min_child_weight\": [ 1, 3, 5, 7],\n",
    "                 \"gamma\":[ 0.0, 0.1, 0.2],\n",
    "                \"colsample_bytree\":[ 0.3, 0.4],\n",
    "                \"n_estimators\": [100, 200, 300, 400, 500, 600, 700, 800, 900, 1000],\n",
    "                \"eval_metric\": ['logloss']\n",
    "}\n",
    "\n",
    "\n",
    "# Configure GridSearchCV\n",
    "random_search = RandomizedSearchCV(xgb, param_space, n_iter=32,\n",
    "                                        scoring=\"accuracy\", cv=5,\n",
    "                                        n_jobs=-1, random_state=911)\n",
    "# Initiate Search\n",
    "random_search.fit(X_train, y_train)\n",
    "\n",
    "# Extract Tuned Parameters and Predictive Accuracy\n",
    "tuned_params = random_search.best_params_\n",
    "tuned_score = random_search.best_score_\n",
    "best_estimator = random_search.best_estimator_\n",
    "\n",
    "# Print Results\n",
    "print(\"Best Accuracy: {:.2f} %\".format(random_search.best_score_*100))\n",
    "print(\"Best Parameters:\", tuned_params)"
   ]
  },
  {
   "cell_type": "markdown",
   "id": "a0ea52e8",
   "metadata": {},
   "source": [
    "# 6. Evaluation Metrics"
   ]
  },
  {
   "cell_type": "code",
   "execution_count": 12,
   "id": "32daa144",
   "metadata": {},
   "outputs": [],
   "source": [
    "\n",
    "def evaluate_model(grid_search, X_test):\n",
    "    \n",
    "    y_pred = grid_search.predict(X_test)\n",
    "    cm = confusion_matrix(y_test, y_pred)\n",
    "    clr = classification_report(y_test, y_pred, target_names=[\"NEGATIVE\", \"POSITIVE\"])\n",
    "    plt.figure(figsize=(6, 6))\n",
    "    sns.heatmap(cm, annot=True, fmt='g', vmin=0, cmap='Blues', cbar=False)\n",
    "    plt.xticks(ticks=np.arange(2) + 0.6, labels=[\"NEGATIVE\", \"POSITIVE\"])\n",
    "    plt.yticks(ticks=np.arange(2) + 0.6, labels=[\"NEGATIVE\", \"POSITIVE\"])\n",
    "    plt.xlabel(\"Predicted\")\n",
    "    plt.ylabel(\"Actual\")\n",
    "    plt.title(\"Confusion Matrix\")\n",
    "    plt.show()\n",
    "    \n",
    "    print(\"Classification Report:\\n----------------------\\n\", clr)\n",
    "    \n",
    "    \n",
    "    # ROC/AUC Curve\n",
    "    fpr, tpr, thresholds = metrics.roc_curve(y_test, y_pred)\n",
    "    plt.plot(fpr, tpr, c = 'green',\n",
    "                linewidth = 3,\n",
    "                alpha = 0.75)\n",
    "    plt.xlim([0.0, 1.0])\n",
    "    plt.ylim([0.0, 1.0])\n",
    "    plt.title('ROC Curve')\n",
    "    plt.xlabel('False Positive Rate (1 - Specificity)')\n",
    "    plt.ylabel('True Positive Rate (Sensitivity)')\n",
    "    plt.show()\n",
    "    \n",
    "    \n",
    "    # Visualising the Testing Results\n",
    "    X_set, y_set = sc.inverse_transform(X_test), y_test\n",
    "    X1, X2 = np.meshgrid(np.arange(start = X_set[:, 0].min() - 10, stop = X_set[:, 0].max() + 10, step = 0.25),\n",
    "                         np.arange(start = X_set[:, 1].min() - 1000, stop = X_set[:, 1].max() + 1000, step = 0.25))\n",
    "    plt.contourf(X1, X2, grid_search.predict(sc.transform(np.array([X1.ravel(), X2.ravel()]).T)).reshape(X1.shape),\n",
    "                 alpha = 0.75, cmap = ListedColormap(('red', 'green')))\n",
    "    plt.xlim(X1.min(), X1.max())\n",
    "    plt.ylim(X2.min(), X2.max())\n",
    "    for i, j in enumerate(np.unique(y_set)):\n",
    "        plt.scatter(X_set[y_set == j, 0], X_set[y_set == j, 1], cmap = ListedColormap(('red', 'green'))(i),edgecolor = 'black',\n",
    "            linewidth = 1,\n",
    "            alpha = 0.75, label = j)\n",
    "    plt.title('XGBoost (Test set)')\n",
    "    plt.xlabel('Age')\n",
    "    plt.ylabel('Estimated Salary')\n",
    "    plt.legend()\n",
    "    plt.show()"
   ]
  },
  {
   "cell_type": "code",
   "execution_count": 13,
   "id": "2409e525",
   "metadata": {},
   "outputs": [
    {
     "data": {
      "image/png": "[encoded data removed]",
      "text/plain": [
       "<Figure size 432x432 with 1 Axes>"
      ]
     },
     "metadata": {
      "needs_background": "light"
     },
     "output_type": "display_data"
    },
    {
     "name": "stdout",
     "output_type": "stream",
     "text": [
      "Classification Report:\n",
      "----------------------\n",
      "               precision    recall  f1-score   support\n",
      "\n",
      "    NEGATIVE       0.81      0.93      0.87        46\n",
      "    POSITIVE       0.89      0.71      0.79        34\n",
      "\n",
      "    accuracy                           0.84        80\n",
      "   macro avg       0.85      0.82      0.83        80\n",
      "weighted avg       0.84      0.84      0.83        80\n",
      "\n"
     ]
    },
    {
     "data": {
      "image/png": "[encoded data removed]",
      "text/plain": [
       "<Figure size 432x288 with 1 Axes>"
      ]
     },
     "metadata": {
      "needs_background": "light"
     },
     "output_type": "display_data"
    },
    {
     "data": {
      "image/png": "[encoded data removed]",
      "text/plain": [
       "<Figure size 432x288 with 1 Axes>"
      ]
     },
     "metadata": {
      "needs_background": "light"
     },
     "output_type": "display_data"
    }
   ],
   "source": [
    "evaluate_model(grid_search, X_test)"
   ]
  }
 ],
 "metadata": {
  "kernelspec": {
   "display_name": "Python 3",
   "language": "python",
   "name": "python3"
  },
  "language_info": {
   "codemirror_mode": {
    "name": "ipython",
    "version": 3
   },
   "file_extension": ".py",
   "mimetype": "text/x-python",
   "name": "python",
   "nbconvert_exporter": "python",
   "pygments_lexer": "ipython3",
   "version": "3.8.0"
  }
 },
 "nbformat": 4,
 "nbformat_minor": 5
}
