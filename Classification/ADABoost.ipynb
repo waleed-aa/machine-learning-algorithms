{
 "cells": [
  {
   "cell_type": "markdown",
   "id": "0693c388",
   "metadata": {},
   "source": [
    "# AdaBoost \n",
    "\n",
    "Adaptive Boosting is an iterative sequence of weak algorithms, typically decision trees. The classifier starts with a base decision tree model and each subsequent model iteratively learns from the mistakes of its predecessor and updates the weights and biases of the instances that were misclassified.\n",
    "\n",
    "\n",
    "# Training Process\n",
    "\n",
    "The algorithm starts with an initial base model and makes predictions with equal weights for all features. The instances misclassified by this base model are boosted and the subsequent model then performs better than its predecessor. This sequence continues until all predictors are trained. The model then makes predictions by using the class that receives the majority of the weighted votes across all models.\n",
    "\n",
    "There are notable differences between Random Forests and Adaboost. When making predictions, random forests apply an equal vote to all trees in the ensemble while Adaboost applies greater weights to trees that minimize the error rate. Moreover, Adaboost operates by training the model sequentially where each tree is fit on a modified version of the original dataset. while Random Forests apply bagging based resampling technique in a parallel fashion. \n",
    "\n",
    "# AdaBoost Hyperparameters\n",
    "\n",
    "\n",
    "- n_estimators : The number of trees.\n",
    "\n",
    "- learning_rate: Weight applied to each model at each boosting iteration\n",
    "\n",
    "- algorithm: If model supports probabilistic output use 'SAMME.R' if model produces discreet output 1/0 use  'SAMME'.\n",
    "\n",
    "\n",
    "\n",
    "# AdaBoost Pros and Cons\n",
    "\n",
    "\n",
    "**Pros**\n",
    "\n",
    "- Very few hyperparameters for tune.\n",
    "\n",
    "- They are non- parametric models and don’t require data-pre-processing (feature scaling or one-hot-encoding)\n",
    "\n",
    "- Good for non-linear datasets\n",
    "\n",
    "\n",
    "**Cons**\n",
    "\n",
    "\n",
    "- Cannot be parallelized as each model is trained based on the results of the previous model.\n",
    "\n",
    "- Much slower than other boosting models such as XGboost\n",
    "\n"
   ]
  },
  {
   "cell_type": "markdown",
   "id": "93d9627b",
   "metadata": {},
   "source": [
    "\n",
    "# 1. Libraries"
   ]
  },
  {
   "cell_type": "code",
   "execution_count": 3,
   "id": "059881ec",
   "metadata": {},
   "outputs": [],
   "source": [
    "# Importing Libraries\n",
    "import pandas as pd\n",
    "import numpy as np\n",
    "import matplotlib.pyplot as plt\n",
    "import seaborn as sns\n",
    "from sklearn.ensemble import AdaBoostClassifier\n",
    "from sklearn.tree import DecisionTreeClassifier\n",
    "from sklearn import metrics\n",
    "from sklearn.metrics import confusion_matrix, classification_report, accuracy_score\n",
    "from sklearn.model_selection import train_test_split\n",
    "from sklearn.preprocessing import StandardScaler\n",
    "from matplotlib.colors import ListedColormap\n",
    "from sklearn.model_selection import cross_val_score\n",
    "from sklearn.model_selection import GridSearchCV\n",
    "from sklearn.model_selection import RandomizedSearchCV"
   ]
  },
  {
   "cell_type": "code",
   "execution_count": 4,
   "id": "9b68e81b",
   "metadata": {},
   "outputs": [
    {
     "data": {
      "text/html": [
       "<div>\n",
       "<style scoped>\n",
       "    .dataframe tbody tr th:only-of-type {\n",
       "        vertical-align: middle;\n",
       "    }\n",
       "\n",
       "    .dataframe tbody tr th {\n",
       "        vertical-align: top;\n",
       "    }\n",
       "\n",
       "    .dataframe thead th {\n",
       "        text-align: right;\n",
       "    }\n",
       "</style>\n",
       "<table border=\"1\" class=\"dataframe\">\n",
       "  <thead>\n",
       "    <tr style=\"text-align: right;\">\n",
       "      <th></th>\n",
       "      <th>Age</th>\n",
       "      <th>EstimatedSalary</th>\n",
       "      <th>Purchased</th>\n",
       "    </tr>\n",
       "  </thead>\n",
       "  <tbody>\n",
       "    <tr>\n",
       "      <th>0</th>\n",
       "      <td>19</td>\n",
       "      <td>19000</td>\n",
       "      <td>0</td>\n",
       "    </tr>\n",
       "    <tr>\n",
       "      <th>1</th>\n",
       "      <td>35</td>\n",
       "      <td>20000</td>\n",
       "      <td>0</td>\n",
       "    </tr>\n",
       "    <tr>\n",
       "      <th>2</th>\n",
       "      <td>26</td>\n",
       "      <td>43000</td>\n",
       "      <td>0</td>\n",
       "    </tr>\n",
       "    <tr>\n",
       "      <th>3</th>\n",
       "      <td>27</td>\n",
       "      <td>57000</td>\n",
       "      <td>0</td>\n",
       "    </tr>\n",
       "    <tr>\n",
       "      <th>4</th>\n",
       "      <td>19</td>\n",
       "      <td>76000</td>\n",
       "      <td>0</td>\n",
       "    </tr>\n",
       "  </tbody>\n",
       "</table>\n",
       "</div>"
      ],
      "text/plain": [
       "   Age  EstimatedSalary  Purchased\n",
       "0   19            19000          0\n",
       "1   35            20000          0\n",
       "2   26            43000          0\n",
       "3   27            57000          0\n",
       "4   19            76000          0"
      ]
     },
     "execution_count": 4,
     "metadata": {},
     "output_type": "execute_result"
    }
   ],
   "source": [
    "# Import Data\n",
    "dataset = pd.read_csv('Social_Network_Ads.csv')\n",
    "dataset.head()"
   ]
  },
  {
   "cell_type": "markdown",
   "id": "06657803",
   "metadata": {},
   "source": [
    "# 2. Preprocessing"
   ]
  },
  {
   "cell_type": "code",
   "execution_count": 5,
   "id": "64dc8c8c",
   "metadata": {},
   "outputs": [
    {
     "name": "stdout",
     "output_type": "stream",
     "text": [
      "Standardized feature Mean: 0.0\n",
      "Standardized feature SD : 1.0\n"
     ]
    }
   ],
   "source": [
    "# Create subsets of input features and response variable.\n",
    "X = dataset.iloc[:, :-1].values\n",
    "y = dataset['Purchased'].values\n",
    "\n",
    "# Training and Testing subsets \n",
    "X_train, X_test, y_train, y_test = train_test_split(X, y, test_size = 0.2, random_state = 911)\n",
    "\n",
    "# Feature Scaling\n",
    "sc = StandardScaler()\n",
    "X_train = sc.fit_transform(X_train)\n",
    "X_test = sc.transform(X_test)\n",
    "print('Standardized feature Mean:',  X_train.mean().round())\n",
    "print('Standardized feature SD :',   X_train.std().round())"
   ]
  },
  {
   "cell_type": "markdown",
   "id": "1bfdbc7a",
   "metadata": {},
   "source": [
    "# 3. Training"
   ]
  },
  {
   "cell_type": "code",
   "execution_count": 29,
   "id": "795ffcb6",
   "metadata": {},
   "outputs": [
    {
     "data": {
      "image/png": "[encoded data removed]",
      "text/plain": [
       "<Figure size 432x288 with 1 Axes>"
      ]
     },
     "metadata": {
      "needs_background": "light"
     },
     "output_type": "display_data"
    }
   ],
   "source": [
    "# Initialize AdaBoost Classifier\n",
    "ada = AdaBoostClassifier(\n",
    " DecisionTreeClassifier(max_depth=1), n_estimators=10,\n",
    " algorithm=\"SAMME.R\", learning_rate=0.5)\n",
    "\n",
    "# Fit the model\n",
    "ada.fit(X_train, y_train)\n",
    "\n",
    "# Visualise the Training results\n",
    "X_set, y_set = sc.inverse_transform(X_train), y_train\n",
    "X1, X2 = np.meshgrid(np.arange(start = X_set[:, 0].min() - 10, stop = X_set[:, 0].max() + 10, step = 0.25),\n",
    "                     np.arange(start = X_set[:, 1].min() - 1000, stop = X_set[:, 1].max() + 1000, step = 0.25))\n",
    "plt.contourf(X1, X2, ada.predict(sc.transform(np.array([X1.ravel(), X2.ravel()]).T)).reshape(X1.shape),\n",
    "             alpha = 0.75, cmap = ListedColormap(('red', 'green')))\n",
    "plt.xlim(X1.min(), X1.max())\n",
    "plt.ylim(X2.min(), X2.max())\n",
    "for i, j in enumerate(np.unique(y_set)):\n",
    "    plt.scatter(X_set[y_set == j, 0], X_set[y_set == j, 1], cmap = ListedColormap(('red', 'green'))(i),edgecolor = 'black',\n",
    "            linewidth = 1,\n",
    "            alpha = 0.75, label = j)\n",
    "plt.title('AdaBoost Classification (Training set)')\n",
    "plt.xlabel('Age')\n",
    "plt.ylabel('Estimated Salary')\n",
    "plt.legend()\n",
    "plt.show()"
   ]
  },
  {
   "cell_type": "markdown",
   "id": "50f4d321",
   "metadata": {},
   "source": [
    "# 3. Testing"
   ]
  },
  {
   "cell_type": "code",
   "execution_count": 10,
   "id": "5823c54f",
   "metadata": {},
   "outputs": [
    {
     "name": "stdout",
     "output_type": "stream",
     "text": [
      "[0]\n",
      "Classification Accuracy : 0.8125\n"
     ]
    }
   ],
   "source": [
    "# Predicting a new result using age 40 and salary 87000\n",
    "print(ada.predict(sc.transform([[40,87000]])))\n",
    "ada.predict_proba(sc.transform([[40,87000]]))\n",
    "\n",
    "# Predicting the Test set results\n",
    "y_pred = ada.predict(X_test)\n",
    "\n",
    "# Classification Accuracy\n",
    "print('Classification Accuracy :', accuracy_score(y_test, y_pred))"
   ]
  },
  {
   "cell_type": "markdown",
   "id": "135e1263",
   "metadata": {},
   "source": [
    "# 4. K-Fold Cross Validation"
   ]
  },
  {
   "cell_type": "code",
   "execution_count": 49,
   "id": "1aa870d8",
   "metadata": {},
   "outputs": [
    {
     "name": "stdout",
     "output_type": "stream",
     "text": [
      "[0.975 0.725 0.95  0.95  1.    0.9   0.75  0.775 0.875 0.9  ]\n",
      "Accuracy: 88.000 %\n",
      "Standard Deviation: 9.274 %\n"
     ]
    }
   ],
   "source": [
    "# 10 fold cross validation\n",
    "accuracies = cross_val_score(estimator = ada,\n",
    "                             X = X,\n",
    "                             y = y,\n",
    "                             cv = 10,\n",
    "                             scoring = 'accuracy')\n",
    "\n",
    "# Cross validation accuracy and standard deviation\n",
    "print(accuracies)\n",
    "print(\"Accuracy: {:.3f} %\".format(accuracies.mean()*100))\n",
    "print(\"Standard Deviation: {:.3f} %\".format(accuracies.std()*100))"
   ]
  },
  {
   "cell_type": "markdown",
   "id": "d054560c",
   "metadata": {},
   "source": [
    "# 5. Hyperparametric Tuning"
   ]
  },
  {
   "cell_type": "code",
   "execution_count": 50,
   "id": "60e60fa2",
   "metadata": {},
   "outputs": [
    {
     "name": "stdout",
     "output_type": "stream",
     "text": [
      "Best Accuracy: 91.56 %\n",
      "Best Parameters: {'algorithm': 'SAMME', 'learning_rate': 0.5, 'n_estimators': 100}\n"
     ]
    }
   ],
   "source": [
    "# Grid Search CV\n",
    "ada = AdaBoostClassifier()\n",
    "param_grid = [{\n",
    "      'learning_rate': [0.25, 0.5, 1],\n",
    "      'n_estimators': [10, 100, 1000],\n",
    "      'algorithm': ['SAMME', 'SAMME.R']}]\n",
    "\n",
    "\n",
    "# Configure GridSearchCV\n",
    "grid_search = GridSearchCV(ada, param_grid, cv=5,\n",
    "                                  scoring=\"accuracy\",\n",
    "                                  n_jobs=-1)\n",
    "\n",
    "# Initiate Search\n",
    "grid_search.fit(X_train, y_train)\n",
    "\n",
    "# Extract Tuned Parameters and Predictive Accuracy\n",
    "tuned_params = grid_search.best_params_\n",
    "tuned_score = grid_search.best_score_\n",
    "best_estimator = grid_search.best_estimator_\n",
    "\n",
    "# Print Results\n",
    "print(\"Best Accuracy: {:.2f} %\".format(grid_search.best_score_*100))\n",
    "print(\"Best Parameters:\", tuned_params)"
   ]
  },
  {
   "cell_type": "code",
   "execution_count": 41,
   "id": "295a3e3b",
   "metadata": {},
   "outputs": [
    {
     "name": "stdout",
     "output_type": "stream",
     "text": [
      "Best Accuracy: 91.56 %\n",
      "Best Parameters: {'n_estimators': 100, 'learning_rate': 0.5, 'algorithm': 'SAMME'}\n"
     ]
    }
   ],
   "source": [
    "# Randomized Search\n",
    "\n",
    "ada = AdaBoostClassifier()\n",
    "param_grid = [{\n",
    "      'learning_rate': [0.25, 0.5, 1, 2],\n",
    "      'n_estimators': [10, 100, 1000],\n",
    "      'algorithm': ['SAMME', 'SAMME.R']}]\n",
    "\n",
    "\n",
    "# Configure Randomized Search\n",
    "random_search = RandomizedSearchCV(ada, param_grid, n_iter=24,\n",
    "                                        scoring=\"accuracy\", cv=5,\n",
    "                                        n_jobs=-1, random_state=911)\n",
    "#Initiate Search\n",
    "random_search.fit(X_train, y_train)\n",
    "\n",
    "\n",
    "# Extract Tuned Parameters and Predictive Accuracy\n",
    "tuned_params = random_search.best_params_\n",
    "tuned_score = random_search.best_score_\n",
    "best_estimator = random_search.best_estimator_\n",
    "\n",
    "# Print accuracy and best parameters\n",
    "print(\"Best Accuracy: {:.2f} %\".format(random_search.best_score_*100))\n",
    "print(\"Best Parameters:\", tuned_params)"
   ]
  },
  {
   "cell_type": "markdown",
   "id": "a0ea52e8",
   "metadata": {},
   "source": [
    "# 6. Evaluation Metrics"
   ]
  },
  {
   "cell_type": "code",
   "execution_count": 46,
   "id": "32daa144",
   "metadata": {},
   "outputs": [],
   "source": [
    "# Confusion Matrix/AUC/Classification Report \n",
    "\n",
    "def evaluate_model(ada, X_test):\n",
    "    \n",
    "    y_pred = random_search.predict(X_test)\n",
    "    cm = confusion_matrix(y_test, y_pred)\n",
    "    clr = classification_report(y_test, y_pred, target_names=[\"NEGATIVE\", \"POSITIVE\"])\n",
    "    plt.figure(figsize=(6, 6))\n",
    "    sns.heatmap(cm, annot=True, fmt='g', vmin=0, cmap='Blues', cbar=False)\n",
    "    plt.xticks(ticks=np.arange(2) + 0.6, labels=[\"NEGATIVE\", \"POSITIVE\"])\n",
    "    plt.yticks(ticks=np.arange(2) + 0.6, labels=[\"NEGATIVE\", \"POSITIVE\"])\n",
    "    plt.xlabel(\"Predicted\")\n",
    "    plt.ylabel(\"Actual\")\n",
    "    plt.title(\"Confusion Matrix\")\n",
    "    plt.show()\n",
    "    \n",
    "    print(\"Classification Report:\\n----------------------\\n\", clr)\n",
    "    \n",
    "    \n",
    "    # ROC/AUC Curve\n",
    "    fpr, tpr, thresholds = metrics.roc_curve(y_test, y_pred)\n",
    "    plt.plot(fpr, tpr, c = 'green', linewidth = 3, alpha = 0.75)\n",
    "    plt.xlim([0.0, 1.0])\n",
    "    plt.ylim([0.0, 1.0])\n",
    "    plt.title('ROC Curve')\n",
    "    plt.xlabel('False Positive Rate (1 - Specificity)')\n",
    "    plt.ylabel('True Positive Rate (Sensitivity)')\n",
    "    plt.show()\n",
    "    \n",
    "    \n",
    "    # Visualising the Testing Results\n",
    "    X_set, y_set = sc.inverse_transform(X_test), y_test\n",
    "    X1, X2 = np.meshgrid(np.arange(start = X_set[:, 0].min() - 10, stop = X_set[:, 0].max() + 10, step = 0.25),\n",
    "                         np.arange(start = X_set[:, 1].min() - 1000, stop = X_set[:, 1].max() + 1000, step = 0.25))\n",
    "    plt.contourf(X1, X2, rf.predict(sc.transform(np.array([X1.ravel(), X2.ravel()]).T)).reshape(X1.shape),\n",
    "                 alpha = 0.75, cmap = ListedColormap(('red', 'green')))\n",
    "    plt.xlim(X1.min(), X1.max())\n",
    "    plt.ylim(X2.min(), X2.max())\n",
    "    for i, j in enumerate(np.unique(y_set)):\n",
    "        plt.scatter(X_set[y_set == j, 0], X_set[y_set == j, 1], cmap = ListedColormap(('red', 'green'))(i),edgecolor = 'black',\n",
    "            linewidth = 1,\n",
    "            alpha = 0.75, label = j)\n",
    "    plt.title('AdaBoost Decision Boundry (Test set)')\n",
    "    plt.xlabel('Age')\n",
    "    plt.ylabel('Estimated Salary')\n",
    "    plt.legend()\n",
    "    plt.show()"
   ]
  },
  {
   "cell_type": "code",
   "execution_count": 47,
   "id": "2409e525",
   "metadata": {},
   "outputs": [
    {
     "data": {
      "image/png": "[encoded data removed]",
      "text/plain": [
       "<Figure size 432x432 with 1 Axes>"
      ]
     },
     "metadata": {
      "needs_background": "light"
     },
     "output_type": "display_data"
    },
    {
     "name": "stdout",
     "output_type": "stream",
     "text": [
      "Classification Report:\n",
      "----------------------\n",
      "               precision    recall  f1-score   support\n",
      "\n",
      "    NEGATIVE       0.83      0.93      0.88        46\n",
      "    POSITIVE       0.89      0.74      0.81        34\n",
      "\n",
      "    accuracy                           0.85        80\n",
      "   macro avg       0.86      0.84      0.84        80\n",
      "weighted avg       0.85      0.85      0.85        80\n",
      "\n"
     ]
    },
    {
     "data": {
      "image/png": "[encoded data removed]",
      "text/plain": [
       "<Figure size 432x288 with 1 Axes>"
      ]
     },
     "metadata": {
      "needs_background": "light"
     },
     "output_type": "display_data"
    },
    {
     "data": {
      "image/png": "[encoded data removed]",
      "text/plain": [
       "<Figure size 432x288 with 1 Axes>"
      ]
     },
     "metadata": {
      "needs_background": "light"
     },
     "output_type": "display_data"
    }
   ],
   "source": [
    "evaluate_model(ada, X_test)"
   ]
  }
 ],
 "metadata": {
  "kernelspec": {
   "display_name": "Python 3",
   "language": "python",
   "name": "python3"
  },
  "language_info": {
   "codemirror_mode": {
    "name": "ipython",
    "version": 3
   },
   "file_extension": ".py",
   "mimetype": "text/x-python",
   "name": "python",
   "nbconvert_exporter": "python",
   "pygments_lexer": "ipython3",
   "version": "3.8.0"
  }
 },
 "nbformat": 4,
 "nbformat_minor": 5
}
